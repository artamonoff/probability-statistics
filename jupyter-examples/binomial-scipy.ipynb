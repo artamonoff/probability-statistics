{
 "cells": [
  {
   "cell_type": "markdown",
   "metadata": {},
   "source": [
    "# Биномиальное распределение в Python\n",
    "Библиотека `scipy`"
   ]
  },
  {
   "cell_type": "code",
   "execution_count": 1,
   "metadata": {},
   "outputs": [],
   "source": [
    "from scipy.stats import binom\n",
    "import numpy as np\n",
    "\n",
    "from math import comb # биномиальные коэффициенты\n",
    "\n",
    "import matplotlib.pyplot as plt"
   ]
  },
  {
   "cell_type": "markdown",
   "metadata": {},
   "source": [
    "Пусть $X\\sim Binom(n=10, p=0.7)$\n",
    "\n",
    "Зададим распределение с заданными параметрами"
   ]
  },
  {
   "cell_type": "code",
   "execution_count": 2,
   "metadata": {},
   "outputs": [],
   "source": [
    "rv = binom(n=10, p=0.7)"
   ]
  },
  {
   "cell_type": "markdown",
   "metadata": {},
   "source": [
    "## Распределение вероятностей\n",
    "\n",
    "Для вычисления вероятностей используем следующие методы\n",
    "\n",
    "|Вероятность|Метод|\n",
    "|-|-|\n",
    "|$f(k)=P(X=k)$|`.pmf(k)`|\n",
    "|$F(k)=P(X\\leq k)$|`.cdf(k)`|\n",
    "|$P(X>k)$|`.sf(k)=1-.cdf(k)`|\n",
    "|$P(k_1<X\\leq k_2)$|`.cdf(k2)-.cdf(k1)`|\n",
    "\n",
    "Для для вычисления вероятности $P(k_1\\leq X\\leq k_2)$ можно использовать следующее наблюдение\n",
    "$$\n",
    "\tP(k_1\\leq X\\leq k_2)=P(k_1-1< X\\leq k_2)\n",
    "$$\n",
    "\n",
    "\n",
    "### Пример 1\n",
    "Вычислим вероятность $P(X=4)=f(4)$\n",
    "\n"
   ]
  },
  {
   "cell_type": "code",
   "execution_count": 3,
   "metadata": {},
   "outputs": [
    {
     "data": {
      "text/plain": [
       "np.float64(0.036756909000000025)"
      ]
     },
     "execution_count": 3,
     "metadata": {},
     "output_type": "execute_result"
    }
   ],
   "source": [
    "rv.pmf(k=4)"
   ]
  },
  {
   "cell_type": "markdown",
   "metadata": {},
   "source": [
    "Вычисли её непосредственно по формуле \n",
    "\n",
    "$$\n",
    "\tP(X=4)=f(4)=C_{10}^4\\cdot 0.7^4\\cdot(1-0.7)^{10-4}\n",
    "$$"
   ]
  },
  {
   "cell_type": "code",
   "execution_count": 4,
   "metadata": {},
   "outputs": [
    {
     "data": {
      "text/plain": [
       "0.03675690900000003"
      ]
     },
     "execution_count": 4,
     "metadata": {},
     "output_type": "execute_result"
    }
   ],
   "source": [
    "n, p, k = 10, 0.7, 4\n",
    "comb(n, k)*(p**k)*((1-p)**(n-k))"
   ]
  },
  {
   "cell_type": "markdown",
   "metadata": {},
   "source": [
    "### Пример 2\n",
    "Вычислим вероятности\n",
    "\n",
    "$$\n",
    "\\begin{aligned}\n",
    "\t&P(X\\leq 5) & &P(X>3) & &P(2<X\\leq 6)\n",
    "\\end{aligned}\n",
    "$$"
   ]
  },
  {
   "cell_type": "code",
   "execution_count": 5,
   "metadata": {},
   "outputs": [
    {
     "data": {
      "text/plain": [
       "(np.float64(0.1502683326),\n",
       " np.float64(0.9894079216),\n",
       " np.float64(0.34879889519999996))"
      ]
     },
     "execution_count": 5,
     "metadata": {},
     "output_type": "execute_result"
    }
   ],
   "source": [
    "rv.cdf(5), rv.sf(3), rv.cdf(6)-rv.cdf(2)"
   ]
  },
  {
   "cell_type": "markdown",
   "metadata": {},
   "source": [
    "## Математическое ожидание, дисперсия, стандартное отклонение\n",
    "\n",
    "Для вычисления используем следующие методы\n",
    "\n",
    "|Величина|Метод|\n",
    "|-|-|\n",
    "|Математическое ожидание|`.mean()`|\n",
    "|Дисперсия|`.var()`|\n",
    "|Стандартное отклонение|`.std()`|\n",
    "\n",
    "### Пример 3\n",
    "\n",
    "Вычислим $E(X), Var(X), \\sigma(X)$\n"
   ]
  },
  {
   "cell_type": "code",
   "execution_count": 6,
   "metadata": {},
   "outputs": [
    {
     "data": {
      "text/plain": [
       "(np.float64(7.0),\n",
       " np.float64(2.1000000000000005),\n",
       " np.float64(1.449137674618944))"
      ]
     },
     "execution_count": 6,
     "metadata": {},
     "output_type": "execute_result"
    }
   ],
   "source": [
    "rv.mean(), rv.var(), rv.std()"
   ]
  },
  {
   "cell_type": "markdown",
   "metadata": {},
   "source": [
    "Можно вычислить непосредственно по формулам\n",
    "\n",
    "$$\n",
    "\\begin{aligned}\n",
    "\tE(X)&=np \\\\ Var(X)&=np(1-p) \\\\ \\sigma(X)&=\\sqrt{Var(X)}\n",
    "\\end{aligned}\n",
    "$$"
   ]
  },
  {
   "cell_type": "code",
   "execution_count": 7,
   "metadata": {},
   "outputs": [
    {
     "data": {
      "text/plain": [
       "(7.0, 2.1000000000000005, 1.449137674618944)"
      ]
     },
     "execution_count": 7,
     "metadata": {},
     "output_type": "execute_result"
    }
   ],
   "source": [
    "n, p = 10, 0.7\n",
    "n*p, n*p*(1-p), (n*p*(1-p))**0.5"
   ]
  },
  {
   "cell_type": "markdown",
   "metadata": {},
   "source": [
    "## Визуализация распределения вероятностей"
   ]
  },
  {
   "cell_type": "code",
   "execution_count": 8,
   "metadata": {},
   "outputs": [
    {
     "data": {
      "image/png": "[encoded data removed]",
      "text/plain": [
       "<Figure size 640x480 with 1 Axes>"
      ]
     },
     "metadata": {},
     "output_type": "display_data"
    }
   ],
   "source": [
    "x = np.arange(start=0, stop=11, step=1)\n",
    "\n",
    "fig, ax =  plt.subplots(1,1)\n",
    "\n",
    "ax.vlines(x, 0, rv.pmf(x), linestyle='-', lw=3,  colors='m', label='Prob')\n",
    "\n",
    "ax.spines['top'].set_visible(False)\n",
    "ax.spines['right'].set_visible(False)\n",
    "plt.legend()\n",
    "plt.show()"
   ]
  }
 ],
 "metadata": {
  "kernelspec": {
   "display_name": "Python 3",
   "language": "python",
   "name": "python3"
  },
  "language_info": {
   "codemirror_mode": {
    "name": "ipython",
    "version": 3
   },
   "file_extension": ".py",
   "mimetype": "text/x-python",
   "name": "python",
   "nbconvert_exporter": "python",
   "pygments_lexer": "ipython3",
   "version": "3.12.10"
  }
 },
 "nbformat": 4,
 "nbformat_minor": 2
}
