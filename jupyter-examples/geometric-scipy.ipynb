{
 "cells": [
  {
   "cell_type": "markdown",
   "metadata": {},
   "source": [
    "# Геометрическое распределение в Python\n",
    "Библиотека `scipy`"
   ]
  },
  {
   "cell_type": "code",
   "execution_count": 1,
   "metadata": {},
   "outputs": [],
   "source": [
    "from scipy.stats import geom\n",
    "import numpy as np\n",
    "\n",
    "import matplotlib.pyplot as plt"
   ]
  },
  {
   "cell_type": "markdown",
   "metadata": {},
   "source": [
    "Пусть $X\\sim Geom(p=0.3)$\n",
    "\n",
    "Зададим распределение с заданными параметрами"
   ]
  },
  {
   "cell_type": "code",
   "execution_count": 2,
   "metadata": {},
   "outputs": [],
   "source": [
    "p = 0.3\n",
    "rv = geom(p)"
   ]
  },
  {
   "cell_type": "markdown",
   "metadata": {},
   "source": [
    "## Распределение вероятностей\n",
    "\n",
    "Для вычисления вероятностей используем следующие методы\n",
    "\n",
    "|Вероятность|Метод|\n",
    "|-|-|\n",
    "|$f(k)=P(X=k)$|`.pmf(k+1)`|\n",
    "|$F(k)=P(X\\leq k)$|`.cdf(k+1)`|\n",
    "|$P(X>k)$|`.sf(k+1)=1-.cdf(k+1)`|\n",
    "|$P(k_1<X\\leq k_2)$|`.cdf(k2+1)-.cdf(k1+1)`|\n",
    "\n",
    "Для для вычисления вероятности $P(k_1\\leq X\\leq k_2)$ можно использовать следующее наблюдение\n",
    "$$\n",
    "\tP(k_1\\leq X\\leq k_2)=P(k_1-1< X\\leq k_2)\n",
    "$$\n",
    "\n",
    "\n",
    "### Пример 1\n",
    "Вычислим вероятность $P(X=2)=f(2)$\n",
    "\n"
   ]
  },
  {
   "cell_type": "code",
   "execution_count": 3,
   "metadata": {},
   "outputs": [
    {
     "data": {
      "text/plain": [
       "np.float64(0.14699999999999996)"
      ]
     },
     "execution_count": 3,
     "metadata": {},
     "output_type": "execute_result"
    }
   ],
   "source": [
    "rv.pmf(k=2+1)"
   ]
  },
  {
   "cell_type": "markdown",
   "metadata": {},
   "source": [
    "Вычисли её непосредственно по формуле \n",
    "\n",
    "$$\n",
    "\tP(X=k)=(1-p)^kp\n",
    "$$"
   ]
  },
  {
   "cell_type": "code",
   "execution_count": 4,
   "metadata": {},
   "outputs": [
    {
     "data": {
      "text/plain": [
       "0.14699999999999996"
      ]
     },
     "execution_count": 4,
     "metadata": {},
     "output_type": "execute_result"
    }
   ],
   "source": [
    "k = 2\n",
    "(1-p)**k*p"
   ]
  },
  {
   "cell_type": "markdown",
   "metadata": {},
   "source": [
    "### Пример 2\n",
    "Вычислим вероятности\n",
    "\n",
    "$$\n",
    "\\begin{aligned}\n",
    "\t&P(X\\leq 2) & &P(X>1) & &P(1<X\\leq 3)\n",
    "\\end{aligned}\n",
    "$$"
   ]
  },
  {
   "cell_type": "code",
   "execution_count": 5,
   "metadata": {},
   "outputs": [
    {
     "data": {
      "text/plain": [
       "(np.float64(0.6569999999999999),\n",
       " np.float64(0.49000000000000005),\n",
       " np.float64(0.1469999999999999))"
      ]
     },
     "execution_count": 5,
     "metadata": {},
     "output_type": "execute_result"
    }
   ],
   "source": [
    "rv.cdf(2+1), rv.sf(1+1), rv.cdf(2+1)-rv.cdf(1+1)"
   ]
  },
  {
   "cell_type": "markdown",
   "metadata": {},
   "source": [
    "## Математическое ожидание, дисперсия, стандартное отклонение\n",
    "\n",
    "Для вычисления используем следующие методы\n",
    "\n",
    "|Величина|Метод|\n",
    "|-|-|\n",
    "|Математическое ожидание|`.mean()-1`|\n",
    "|Дисперсия|`.var()`|\n",
    "|Стандартное отклонение|`.std()`|\n",
    "\n",
    "### Пример 3\n",
    "\n",
    "Вычислим $E(X), Var(X), \\sigma(X)$\n"
   ]
  },
  {
   "cell_type": "code",
   "execution_count": 6,
   "metadata": {},
   "outputs": [
    {
     "data": {
      "text/plain": [
       "(np.float64(2.3333333333333335),\n",
       " np.float64(7.777777777777779),\n",
       " np.float64(2.7888667551135855))"
      ]
     },
     "execution_count": 6,
     "metadata": {},
     "output_type": "execute_result"
    }
   ],
   "source": [
    "rv.mean()-1, rv.var(), rv.std()"
   ]
  },
  {
   "cell_type": "markdown",
   "metadata": {},
   "source": [
    "Можно вычислить непосредственно по формулам\n",
    "\n",
    "$$\n",
    "\\begin{aligned}\n",
    "\tE(X)&=\\frac{1-p}{p} &\n",
    "\tVar(X)&=\\frac{1-p}{p^2} & \\sigma(X)&=\\sqrt{Var(X)}\n",
    "\\end{aligned}\n",
    "$$"
   ]
  },
  {
   "cell_type": "code",
   "execution_count": 7,
   "metadata": {},
   "outputs": [
    {
     "data": {
      "text/plain": [
       "(2.3333333333333335, 7.777777777777778, 2.788866755113585)"
      ]
     },
     "execution_count": 7,
     "metadata": {},
     "output_type": "execute_result"
    }
   ],
   "source": [
    "(1-p)/p, (1-p)/p**2, ((1-p)/p**2)**0.5"
   ]
  },
  {
   "cell_type": "markdown",
   "metadata": {},
   "source": [
    "## Визуализация распределения вероятностей"
   ]
  },
  {
   "cell_type": "code",
   "execution_count": 8,
   "metadata": {},
   "outputs": [
    {
     "data": {
      "image/png": "[encoded data removed]",
      "text/plain": [
       "<Figure size 640x480 with 1 Axes>"
      ]
     },
     "metadata": {},
     "output_type": "display_data"
    }
   ],
   "source": [
    "x_min, x_max = 0, 15\n",
    "\n",
    "x = np.arange(start=x_min, stop=x_max+1, step=1)\n",
    "\n",
    "fig, ax =  plt.subplots(1,1)\n",
    "\n",
    "ax.vlines(x, 0, rv.pmf(x), linestyle='-', lw=3,  colors='m', label='Prob')\n",
    "\n",
    "ax.spines['top'].set_visible(False)\n",
    "ax.spines['right'].set_visible(False)\n",
    "plt.legend()\n",
    "plt.show()"
   ]
  },
  {
   "cell_type": "markdown",
   "metadata": {},
   "source": [
    "## Визуализация функции распределения"
   ]
  },
  {
   "cell_type": "code",
   "execution_count": 9,
   "metadata": {},
   "outputs": [
    {
     "data": {
      "image/png": "[encoded data removed]",
      "text/plain": [
       "<Figure size 640x480 with 1 Axes>"
      ]
     },
     "metadata": {},
     "output_type": "display_data"
    }
   ],
   "source": [
    "x_min, x_max = 0, 10\n",
    "x = np.arange(start=x_min-1, stop=x_max+2, step=0.05)\n",
    "\n",
    "plt.plot(x, rv.cdf(np.floor(x)), color='m')\n",
    "plt.show()"
   ]
  }
 ],
 "metadata": {
  "kernelspec": {
   "display_name": "Python 3",
   "language": "python",
   "name": "python3"
  },
  "language_info": {
   "codemirror_mode": {
    "name": "ipython",
    "version": 3
   },
   "file_extension": ".py",
   "mimetype": "text/x-python",
   "name": "python",
   "nbconvert_exporter": "python",
   "pygments_lexer": "ipython3",
   "version": "3.14.0"
  }
 },
 "nbformat": 4,
 "nbformat_minor": 2
}
