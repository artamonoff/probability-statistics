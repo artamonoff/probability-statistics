{
 "cells": [
  {
   "cell_type": "markdown",
   "metadata": {},
   "source": [
    "# Биномиальное распределение: асимптотика"
   ]
  },
  {
   "cell_type": "code",
   "execution_count": 1,
   "metadata": {},
   "outputs": [],
   "source": [
    "import numpy as np\n",
    "from scipy.stats import binom, poisson, norm\n",
    "from math import exp, factorial, sqrt\n",
    "\n",
    "import matplotlib.pyplot as plt"
   ]
  },
  {
   "cell_type": "markdown",
   "metadata": {},
   "source": [
    "## Формула Пуассона\n",
    "\n",
    "Пусть $X\\sim Binom(n, \\lambda/n)$. Тогда при больших $n$\n",
    "\n",
    "$$\n",
    "\\begin{aligned}\n",
    "\tP(X=k)&\\approx \\frac{\\lambda^k}{k!}\\exp(-\\lambda) & n&\\gg 1\n",
    "\\end{aligned}\n",
    "$$\n",
    "\n",
    "__Замечаение__: фактически можно применять для случая $Binom(n,p)$ когда $n$ \"большое\", а $p$ \"маленькое\""
   ]
  },
  {
   "cell_type": "markdown",
   "metadata": {},
   "source": [
    "__Пример__ Пусть $X\\sim Binom(n=500, p=0.01)$. Тогда $\\lambda=np=5$\n",
    "\n",
    "Имеем для $P(X=2)$"
   ]
  },
  {
   "cell_type": "code",
   "execution_count": 2,
   "metadata": {},
   "outputs": [],
   "source": [
    "n = 500\n",
    "p = 0.01\n",
    "l = n*p\n",
    "\n",
    "k=2"
   ]
  },
  {
   "cell_type": "code",
   "execution_count": 3,
   "metadata": {},
   "outputs": [
    {
     "data": {
      "text/plain": [
       "np.float64(0.08363103352119428)"
      ]
     },
     "execution_count": 3,
     "metadata": {},
     "output_type": "execute_result"
    }
   ],
   "source": [
    "# точная формула\n",
    "binom(n, p).pmf(k)"
   ]
  },
  {
   "cell_type": "code",
   "execution_count": 4,
   "metadata": {},
   "outputs": [
    {
     "data": {
      "text/plain": [
       "0.08422433748856833"
      ]
     },
     "execution_count": 4,
     "metadata": {},
     "output_type": "execute_result"
    }
   ],
   "source": [
    "# приближение Пуассона: непосредственное вычисление\n",
    "exp(-l)*(l**k)/factorial(k)"
   ]
  },
  {
   "cell_type": "code",
   "execution_count": 5,
   "metadata": {},
   "outputs": [
    {
     "data": {
      "text/plain": [
       "np.float64(0.08422433748856832)"
      ]
     },
     "execution_count": 5,
     "metadata": {},
     "output_type": "execute_result"
    }
   ],
   "source": [
    "# приближение Пуассона: метод из scipy\n",
    "poisson(l).pmf(2)"
   ]
  },
  {
   "cell_type": "markdown",
   "metadata": {},
   "source": [
    "## Формулы Муавра-Лапласа\n",
    "\n",
    "Пусть $X\\sim Binom(n,p)$ и\n",
    "\n",
    "$$\n",
    "\\begin{aligned}\n",
    "\t\\phi(t)&=\\frac{1}{\\sqrt{2\\pi}}\\exp\\left(-\\frac{t^2}{2}\\right) & \\Phi(t)&=\\int_{-\\infty}^t \\phi(z)dz\n",
    "\\end{aligned}\n",
    "$$\n",
    "\n",
    "Тогда при больших $n$\n",
    "\n",
    "- __Локальная формула Муавра-Лапласа__\n",
    "\n",
    "$$\n",
    "\tP(X=k)\\approx \\frac{1}{\\sqrt{np(1-p)}}\\phi\\left(\\frac{k-np}{\\sqrt{np(1-p)}}\\right)\n",
    "$$\n",
    "\n",
    "- __Интегральная формула Муавра-Лапласа__\n",
    "\n",
    "$$\n",
    "\\begin{aligned}\n",
    "\tP\\left(a<\\frac{X-np}{\\sqrt{np(1-p)}}<b\\right)&\\approx\\int_a^b \\phi(t)dt=\\Phi(b)-\\Phi(a) \\\\\n",
    "\tP\\left(\\frac{X-np}{\\sqrt{np(1-p)}}<b\\right)&\\approx\\int_{-\\infty}^b \\phi(t)dt=\\Phi(b) \\\\\n",
    "\tP\\left(a<\\frac{X-np}{\\sqrt{np(1-p)}}\\right)&\\approx\\int_a^{+\\infty} \\phi(t)dt=1-\\Phi(a)\n",
    "\\end{aligned}\n",
    "$$"
   ]
  },
  {
   "cell_type": "markdown",
   "metadata": {},
   "source": [
    "__Пример 1__ Пусть $X\\sim Binom(n=300, p=0.4)$\n",
    "\n",
    "Вычислим $P(X=100)$"
   ]
  },
  {
   "cell_type": "code",
   "execution_count": 6,
   "metadata": {},
   "outputs": [],
   "source": [
    "n, p, k = 300, 0.4, 100"
   ]
  },
  {
   "cell_type": "code",
   "execution_count": 7,
   "metadata": {},
   "outputs": [
    {
     "data": {
      "text/plain": [
       "np.float64(0.0028520685426985234)"
      ]
     },
     "execution_count": 7,
     "metadata": {},
     "output_type": "execute_result"
    }
   ],
   "source": [
    "# точная формула\n",
    "binom(n, p).pmf(k)"
   ]
  },
  {
   "cell_type": "code",
   "execution_count": 8,
   "metadata": {},
   "outputs": [
    {
     "data": {
      "text/plain": [
       "np.float64(0.0029232789328737384)"
      ]
     },
     "execution_count": 8,
     "metadata": {},
     "output_type": "execute_result"
    }
   ],
   "source": [
    "# приближение Муавра-Лапласа: метод из scipy\n",
    "norm.pdf((k-n*p)/sqrt(n*p*(1-p)))/sqrt(n*p*(1-p))"
   ]
  },
  {
   "cell_type": "markdown",
   "metadata": {},
   "source": [
    "__Пример 1__ Пусть $X\\sim Binom(n=5000, p=0.7)$\n",
    "\n",
    "Вычислим \n",
    "\n",
    "$$\n",
    "\\begin{gathered}\n",
    "\tP\\left(-2<\\frac{X-np}{\\sqrt{np(1-p)}}<1\\right)=\n",
    "\tP\\left(np-2\\sqrt{np(1-p)}<X<np+\\sqrt{np(1-p)}\\right)=\\\\\n",
    "\tP\\left(3500-2\\sqrt{1050}<X<3500+\\sqrt{1050}\\right)=P(3435< X\\leq 3532)\n",
    "\\end{gathered}\n",
    "$$"
   ]
  },
  {
   "cell_type": "code",
   "execution_count": 9,
   "metadata": {},
   "outputs": [],
   "source": [
    "n, p = 5000, 0.7"
   ]
  },
  {
   "cell_type": "code",
   "execution_count": 10,
   "metadata": {},
   "outputs": [
    {
     "data": {
      "text/plain": [
       "np.float64(0.8184721433573451)"
      ]
     },
     "execution_count": 10,
     "metadata": {},
     "output_type": "execute_result"
    }
   ],
   "source": [
    "# точная формула\n",
    "binom(n, p).cdf(3532)-binom(n, p).cdf(3435)"
   ]
  },
  {
   "cell_type": "code",
   "execution_count": 11,
   "metadata": {},
   "outputs": [
    {
     "data": {
      "text/plain": [
       "np.float64(0.8185946141203637)"
      ]
     },
     "execution_count": 11,
     "metadata": {},
     "output_type": "execute_result"
    }
   ],
   "source": [
    "# приближение Муавра-Лапласа: метод из scipy\n",
    "norm.cdf(1)-norm.cdf(-2)"
   ]
  },
  {
   "cell_type": "markdown",
   "metadata": {},
   "source": [
    "Вычислим $P(100<X<150)$"
   ]
  },
  {
   "cell_type": "code",
   "execution_count": 12,
   "metadata": {},
   "outputs": [
    {
     "data": {
      "text/plain": [
       "np.float64(0.0)"
      ]
     },
     "execution_count": 12,
     "metadata": {},
     "output_type": "execute_result"
    }
   ],
   "source": [
    "# точная формула\n",
    "binom(n, p).cdf(150)-binom(n, p).cdf(100)"
   ]
  },
  {
   "cell_type": "markdown",
   "metadata": {},
   "source": [
    "По формуле Муавра-Лапласа\n",
    "\n",
    "$$\n",
    "\tP(300<X<150)=P\\left(\\frac{100-np}{\\sqrt{np(1-p)}}<\\frac{X-np}{\\sqrt{np(1-p)}}<\\frac{150-np}{\\sqrt{np(1-p)}}\\right)\n",
    "$$"
   ]
  },
  {
   "cell_type": "code",
   "execution_count": 13,
   "metadata": {},
   "outputs": [
    {
     "data": {
      "text/plain": [
       "np.float64(0.0)"
      ]
     },
     "execution_count": 13,
     "metadata": {},
     "output_type": "execute_result"
    }
   ],
   "source": [
    "# приближение Муавра-Лапласа: метод из scipy\n",
    "norm.cdf((150-n*p)/sqrt(n*p*(1-p)))-norm.cdf((100-n*p)/sqrt(n*p*(1-p)))"
   ]
  },
  {
   "cell_type": "markdown",
   "metadata": {},
   "source": [
    "## Визуализация приближения Пуассона\n",
    "\n",
    "Пусть $X\\sim Binom(n=500, p=0.01)$. Тогда $\\lambda=np=5$"
   ]
  },
  {
   "cell_type": "code",
   "execution_count": 14,
   "metadata": {},
   "outputs": [],
   "source": [
    "n, p = 500, 0.01\n",
    "l = n*p\n",
    "\n",
    "rv_binom = binom(n, p)\n",
    "rv_poisson = poisson(l)"
   ]
  },
  {
   "cell_type": "code",
   "execution_count": 15,
   "metadata": {},
   "outputs": [
    {
     "data": {
      "image/png": "[encoded data removed]",
      "text/plain": [
       "<Figure size 640x480 with 1 Axes>"
      ]
     },
     "metadata": {},
     "output_type": "display_data"
    }
   ],
   "source": [
    "x = np.arange(15)\n",
    "\n",
    "fig, ax =  plt.subplots(1,1)\n",
    "\n",
    "# ax.vlines(x1, 0, rv1.pmf(x1), linestyle='-', lw=3,  colors='m', label='(3,0.3)')\n",
    "ax.vlines(x-0.1, 0, rv_binom.pmf(x), linestyle='-', lw=3, colors='g', label='binom')\n",
    "ax.vlines(x+0.1, 0, rv_poisson.pmf(x), linestyle='-', lw=3, colors='r', label='poisson')\n",
    "\n",
    "ax.spines['top'].set_visible(False)\n",
    "ax.spines['right'].set_visible(False)\n",
    "plt.legend()\n",
    "plt.show()"
   ]
  },
  {
   "cell_type": "code",
   "execution_count": 16,
   "metadata": {},
   "outputs": [
    {
     "data": {
      "image/png": "[encoded data removed]",
      "text/plain": [
       "<Figure size 640x480 with 1 Axes>"
      ]
     },
     "metadata": {},
     "output_type": "display_data"
    }
   ],
   "source": [
    "t = np.arange(-1, 11, 0.05)\n",
    "\n",
    "plt.plot(t, rv_binom.cdf(t), color='magenta', label='binom')\n",
    "plt.plot(t, rv_poisson.cdf(t), color='green', label='poisson')\n",
    "\n",
    "plt.legend()\n",
    "plt.show()"
   ]
  },
  {
   "cell_type": "markdown",
   "metadata": {},
   "source": [
    "## Визуализация приближения Муавра-Лапласа\n",
    "\n",
    "Пусть $X\\sim Binom(n=500, p=0.7)$\n",
    "\n",
    "Приближённая формула\n",
    "\n",
    "$$\n",
    "\tP\\left(\\frac{X-np}{\\sqrt{np(1-p)}}\\leq t\\right)=P(X\\leq np+t\\sqrt{np(1-p)})\\approx \\Phi(t)\n",
    "$$"
   ]
  },
  {
   "cell_type": "code",
   "execution_count": 17,
   "metadata": {},
   "outputs": [],
   "source": [
    "n, p = 500, 0.7\n",
    "\n",
    "mu, sdev = n*p, sqrt(n*p*(1-p))\n",
    "\n",
    "rv_binom = binom(n, p)\n",
    "rv_norm = norm()"
   ]
  },
  {
   "cell_type": "code",
   "execution_count": 18,
   "metadata": {},
   "outputs": [
    {
     "data": {
      "image/png": "[encoded data removed]",
      "text/plain": [
       "<Figure size 640x480 with 1 Axes>"
      ]
     },
     "metadata": {},
     "output_type": "display_data"
    }
   ],
   "source": [
    "t = np.arange(-3, 3, 0.05)\n",
    "\n",
    "plt.plot(t, rv_binom.cdf(mu+t*sdev), color='magenta', label='binom(n='+str(n)+')')\n",
    "plt.plot(t, rv_norm.cdf(t), color='green', label='Phi')\n",
    "\n",
    "plt.legend()\n",
    "plt.show()"
   ]
  },
  {
   "cell_type": "markdown",
   "metadata": {},
   "source": [
    "Пусть $Y\\sim Binom(n=50, p=0.7)$"
   ]
  },
  {
   "cell_type": "code",
   "execution_count": 19,
   "metadata": {},
   "outputs": [],
   "source": [
    "n, p = 50, 0.7\n",
    "\n",
    "mu, sdev = n*p, sqrt(n*p*(1-p))\n",
    "\n",
    "rv_binom = binom(n, p)\n",
    "rv_norm = norm()"
   ]
  },
  {
   "cell_type": "code",
   "execution_count": 20,
   "metadata": {},
   "outputs": [
    {
     "data": {
      "image/png": "[encoded data removed]",
      "text/plain": [
       "<Figure size 640x480 with 1 Axes>"
      ]
     },
     "metadata": {},
     "output_type": "display_data"
    }
   ],
   "source": [
    "t = np.arange(-3, 3, 0.05)\n",
    "\n",
    "plt.plot(t, rv_binom.cdf(mu+t*sdev), color='magenta', label='binom(n='+str(n)+')')\n",
    "plt.plot(t, rv_norm.cdf(t), color='green', label='Phi')\n",
    "\n",
    "plt.legend()\n",
    "plt.show()"
   ]
  }
 ],
 "metadata": {
  "kernelspec": {
   "display_name": "base",
   "language": "python",
   "name": "python3"
  },
  "language_info": {
   "codemirror_mode": {
    "name": "ipython",
    "version": 3
   },
   "file_extension": ".py",
   "mimetype": "text/x-python",
   "name": "python",
   "nbconvert_exporter": "python",
   "pygments_lexer": "ipython3",
   "version": "3.12.7"
  }
 },
 "nbformat": 4,
 "nbformat_minor": 2
}
