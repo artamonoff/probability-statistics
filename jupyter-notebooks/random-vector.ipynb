{
 "cells": [
  {
   "cell_type": "markdown",
   "metadata": {},
   "source": [
    "# Случайные вектор и совместное распределение"
   ]
  },
  {
   "cell_type": "code",
   "execution_count": 2,
   "metadata": {},
   "outputs": [],
   "source": [
    "import numpy as np\n",
    "\n",
    "import matplotlib.pyplot as plt\n",
    "\n",
    "from IPython.display import display\n",
    "from tabulate import tabulate"
   ]
  },
  {
   "cell_type": "code",
   "execution_count": 13,
   "metadata": {},
   "outputs": [
    {
     "data": {
      "text/html": [
       "<table>\n",
       "<thead>\n",
       "<tr><th style=\"text-align: right;\">  </th><th style=\"text-align: right;\">    0</th><th style=\"text-align: right;\">    1</th><th style=\"text-align: right;\">    2</th></tr>\n",
       "</thead>\n",
       "<tbody>\n",
       "<tr><td style=\"text-align: right;\"> 0</td><td style=\"text-align: right;\">0.055</td><td style=\"text-align: right;\">0.037</td><td style=\"text-align: right;\">0.096</td></tr>\n",
       "<tr><td style=\"text-align: right;\"> 1</td><td style=\"text-align: right;\">0.074</td><td style=\"text-align: right;\">0.036</td><td style=\"text-align: right;\">0.302</td></tr>\n",
       "<tr><td style=\"text-align: right;\"> 2</td><td style=\"text-align: right;\">0.129</td><td style=\"text-align: right;\">0.085</td><td style=\"text-align: right;\">0.186</td></tr>\n",
       "</tbody>\n",
       "</table>"
      ],
      "text/plain": [
       "'<table>\\n<thead>\\n<tr><th style=\"text-align: right;\">  </th><th style=\"text-align: right;\">    0</th><th style=\"text-align: right;\">    1</th><th style=\"text-align: right;\">    2</th></tr>\\n</thead>\\n<tbody>\\n<tr><td style=\"text-align: right;\"> 0</td><td style=\"text-align: right;\">0.055</td><td style=\"text-align: right;\">0.037</td><td style=\"text-align: right;\">0.096</td></tr>\\n<tr><td style=\"text-align: right;\"> 1</td><td style=\"text-align: right;\">0.074</td><td style=\"text-align: right;\">0.036</td><td style=\"text-align: right;\">0.302</td></tr>\\n<tr><td style=\"text-align: right;\"> 2</td><td style=\"text-align: right;\">0.129</td><td style=\"text-align: right;\">0.085</td><td style=\"text-align: right;\">0.186</td></tr>\\n</tbody>\\n</table>'"
      ]
     },
     "metadata": {},
     "output_type": "display_data"
    }
   ],
   "source": [
    "x = np.arange(0, 3)\n",
    "y = np.arange(0, 3)\n",
    "\n",
    "rng_prob = np.random.default_rng(2)\n",
    "cum_probs = rng_prob.uniform(low=0, high=1, size=len(x)*len(y)-1).round(3)\n",
    "cum_probs = np.append(arr=cum_probs, values=[0,1])\n",
    "probs = np.reshape( np.diff(np.sort(cum_probs)), (len(x), len(y)) )\n",
    "\n",
    "# print(probs)\n",
    "\n",
    "# distr_law = np.array([x, probs])\n",
    "\n",
    "# print('Рассмотрим случайную величину с таблицей распределения')\n",
    "display(tabulate(probs, tablefmt='html', showindex=list(x), headers=list(y)) )"
   ]
  },
  {
   "cell_type": "code",
   "execution_count": null,
   "metadata": {},
   "outputs": [],
   "source": []
  }
 ],
 "metadata": {
  "kernelspec": {
   "display_name": "base",
   "language": "python",
   "name": "python3"
  },
  "language_info": {
   "codemirror_mode": {
    "name": "ipython",
    "version": 3
   },
   "file_extension": ".py",
   "mimetype": "text/x-python",
   "name": "python",
   "nbconvert_exporter": "python",
   "pygments_lexer": "ipython3",
   "version": "3.12.4"
  }
 },
 "nbformat": 4,
 "nbformat_minor": 2
}
