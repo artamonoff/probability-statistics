{
 "cells": [
  {
   "cell_type": "markdown",
   "metadata": {},
   "source": [
    "# Случайные вектор и совместное распределение"
   ]
  },
  {
   "cell_type": "code",
   "execution_count": 40,
   "metadata": {},
   "outputs": [],
   "source": [
    "import numpy as np\n",
    "\n",
    "import matplotlib.pyplot as plt\n",
    "\n",
    "from IPython.display import display\n",
    "from tabulate import tabulate"
   ]
  },
  {
   "cell_type": "code",
   "execution_count": 41,
   "metadata": {},
   "outputs": [
    {
     "name": "stdout",
     "output_type": "stream",
     "text": [
      "Рассмотрим случайный вектор с таблицей совместного распределения\n"
     ]
    },
    {
     "data": {
      "text/html": [
       "<table>\n",
       "<thead>\n",
       "<tr><th style=\"text-align: right;\">  </th><th style=\"text-align: right;\">    0</th><th style=\"text-align: right;\">    1</th><th style=\"text-align: right;\">    2</th></tr>\n",
       "</thead>\n",
       "<tbody>\n",
       "<tr><td style=\"text-align: right;\"> 0</td><td style=\"text-align: right;\">0.055</td><td style=\"text-align: right;\">0.037</td><td style=\"text-align: right;\">0.096</td></tr>\n",
       "<tr><td style=\"text-align: right;\"> 1</td><td style=\"text-align: right;\">0.074</td><td style=\"text-align: right;\">0.036</td><td style=\"text-align: right;\">0.302</td></tr>\n",
       "<tr><td style=\"text-align: right;\"> 2</td><td style=\"text-align: right;\">0.129</td><td style=\"text-align: right;\">0.085</td><td style=\"text-align: right;\">0.186</td></tr>\n",
       "</tbody>\n",
       "</table>"
      ],
      "text/plain": [
       "'<table>\\n<thead>\\n<tr><th style=\"text-align: right;\">  </th><th style=\"text-align: right;\">    0</th><th style=\"text-align: right;\">    1</th><th style=\"text-align: right;\">    2</th></tr>\\n</thead>\\n<tbody>\\n<tr><td style=\"text-align: right;\"> 0</td><td style=\"text-align: right;\">0.055</td><td style=\"text-align: right;\">0.037</td><td style=\"text-align: right;\">0.096</td></tr>\\n<tr><td style=\"text-align: right;\"> 1</td><td style=\"text-align: right;\">0.074</td><td style=\"text-align: right;\">0.036</td><td style=\"text-align: right;\">0.302</td></tr>\\n<tr><td style=\"text-align: right;\"> 2</td><td style=\"text-align: right;\">0.129</td><td style=\"text-align: right;\">0.085</td><td style=\"text-align: right;\">0.186</td></tr>\\n</tbody>\\n</table>'"
      ]
     },
     "metadata": {},
     "output_type": "display_data"
    }
   ],
   "source": [
    "x = np.arange(0, 3)\n",
    "y = np.arange(0, 3)\n",
    "\n",
    "rng_prob = np.random.default_rng(2)\n",
    "cum_probs = rng_prob.uniform(low=0, high=1, size=len(x)*len(y)-1).round(3)\n",
    "cum_probs = np.append(arr=cum_probs, values=[0,1])\n",
    "probs = np.reshape( np.diff(np.sort(cum_probs)), (len(x), len(y)) )\n",
    "\n",
    "# print(probs)\n",
    "\n",
    "# distr_law = np.array([x, probs])\n",
    "\n",
    "print('Рассмотрим случайный вектор с таблицей совместного распределения')\n",
    "display(tabulate(probs, tablefmt='html', showindex=list(x), headers=list(y)) )"
   ]
  },
  {
   "cell_type": "markdown",
   "metadata": {},
   "source": [
    "Матрица вероятностей $\\mathcal P = (f(x,y))$"
   ]
  },
  {
   "cell_type": "code",
   "execution_count": 42,
   "metadata": {},
   "outputs": [
    {
     "name": "stdout",
     "output_type": "stream",
     "text": [
      "[[0.055 0.037 0.096]\n",
      " [0.074 0.036 0.302]\n",
      " [0.129 0.085 0.186]]\n"
     ]
    }
   ],
   "source": [
    "print(probs)"
   ]
  },
  {
   "cell_type": "markdown",
   "metadata": {},
   "source": [
    "## Маргинальные распределения\n",
    "\n",
    "Для $X_1$ маргинальные вероятности $f_1(x)=\\sum_y f(x,y)$"
   ]
  },
  {
   "cell_type": "code",
   "execution_count": 43,
   "metadata": {},
   "outputs": [
    {
     "data": {
      "text/plain": [
       "array([0.188, 0.412, 0.4  ])"
      ]
     },
     "execution_count": 43,
     "metadata": {},
     "output_type": "execute_result"
    }
   ],
   "source": [
    "probs1 = probs.sum(axis=1)\n",
    "probs1"
   ]
  },
  {
   "cell_type": "markdown",
   "metadata": {},
   "source": [
    "Математическое оживание $E(X_1)=\\sum_x xf_1(x)$"
   ]
  },
  {
   "cell_type": "code",
   "execution_count": 44,
   "metadata": {},
   "outputs": [
    {
     "data": {
      "text/plain": [
       "np.float64(1.212)"
      ]
     },
     "execution_count": 44,
     "metadata": {},
     "output_type": "execute_result"
    }
   ],
   "source": [
    "np.sum(x*probs1)"
   ]
  },
  {
   "cell_type": "markdown",
   "metadata": {},
   "source": [
    "Для $X_2$ маргинальные вероятности $f_2(y)=\\sum_x f(x,y)$"
   ]
  },
  {
   "cell_type": "code",
   "execution_count": 45,
   "metadata": {},
   "outputs": [
    {
     "data": {
      "text/plain": [
       "array([0.258, 0.158, 0.584])"
      ]
     },
     "execution_count": 45,
     "metadata": {},
     "output_type": "execute_result"
    }
   ],
   "source": [
    "probs2 = probs.sum(axis=0)\n",
    "probs2"
   ]
  },
  {
   "cell_type": "markdown",
   "metadata": {},
   "source": [
    "Математическое оживание $E(X_2)=\\sum_y yf_2(y)$"
   ]
  },
  {
   "cell_type": "code",
   "execution_count": 46,
   "metadata": {},
   "outputs": [
    {
     "data": {
      "text/plain": [
       "np.float64(1.326)"
      ]
     },
     "execution_count": 46,
     "metadata": {},
     "output_type": "execute_result"
    }
   ],
   "source": [
    "np.sum(y*probs2)"
   ]
  },
  {
   "cell_type": "markdown",
   "metadata": {},
   "source": [
    "## Ковариация и корреляция\n",
    "\n",
    "Вычислим $E(X_1X_2)=\\sum_{x,y} xyf(x,y)=x^\\top \\mathcal{P} y$"
   ]
  },
  {
   "cell_type": "code",
   "execution_count": 47,
   "metadata": {},
   "outputs": [
    {
     "data": {
      "text/plain": [
       "np.float64(1.5540000000000003)"
      ]
     },
     "execution_count": 47,
     "metadata": {},
     "output_type": "execute_result"
    }
   ],
   "source": [
    "x.T@probs@y"
   ]
  },
  {
   "cell_type": "markdown",
   "metadata": {},
   "source": [
    "Ковариация $cov(X_1,X_2)=E(X_1X_2)-E(X_1)E(X_2)$"
   ]
  },
  {
   "cell_type": "code",
   "execution_count": 48,
   "metadata": {},
   "outputs": [
    {
     "data": {
      "text/plain": [
       "np.float64(-0.053111999999999826)"
      ]
     },
     "execution_count": 48,
     "metadata": {},
     "output_type": "execute_result"
    }
   ],
   "source": [
    "x.T@probs@y-(x.T@probs1)*(y.T@probs2)"
   ]
  },
  {
   "cell_type": "markdown",
   "metadata": {},
   "source": [
    "Корреляция \n",
    "\n",
    "$$\n",
    "\tcorr(X_1,X_2)=\\frac{cov(X_1,X_2)}{\\sqrt{Var(X_1)Var(X_2)}}\n",
    "$$"
   ]
  },
  {
   "cell_type": "code",
   "execution_count": 49,
   "metadata": {},
   "outputs": [
    {
     "data": {
      "text/plain": [
       "np.float64(-0.08402584444732031)"
      ]
     },
     "execution_count": 49,
     "metadata": {},
     "output_type": "execute_result"
    }
   ],
   "source": [
    "var1 = np.sum((x**2)*probs1)-np.sum(x*probs1)**2\n",
    "var2 = np.sum((y**2)*probs2)-np.sum(y*probs2)**2\n",
    "\n",
    "(x.T@probs@y-(x.T@probs1)*(y.T@probs2))/((var1*var2)**0.5)"
   ]
  },
  {
   "cell_type": "markdown",
   "metadata": {},
   "source": [
    "## Условное распределение и условное математическое распределение\n",
    "\n",
    "Найдем распределением $X_1$ при условии $X_2=1$\n",
    "\n",
    "$$\n",
    "\\begin{aligned}\n",
    "\tf_1(x|1)&=\\frac{f(x,1)}{f_2(1)} & f_2(1)&=\\sum_x f(x,1)\n",
    "\\end{aligned}\n",
    "$$"
   ]
  },
  {
   "cell_type": "code",
   "execution_count": 50,
   "metadata": {},
   "outputs": [
    {
     "data": {
      "text/plain": [
       "array([[0.23417722, 0.2278481 , 0.53797468]])"
      ]
     },
     "execution_count": 50,
     "metadata": {},
     "output_type": "execute_result"
    }
   ],
   "source": [
    "cond_probs1 = probs[:,y==1].T/np.sum(probs[:,y==1].T)\n",
    "cond_probs1"
   ]
  },
  {
   "cell_type": "markdown",
   "metadata": {},
   "source": [
    "Условное математическое ожидание \n",
    "\n",
    "$$\n",
    "\tE(X_1|X_2=1)=\\sum_x xf_1(x|1)\n",
    "$$"
   ]
  },
  {
   "cell_type": "code",
   "execution_count": 51,
   "metadata": {},
   "outputs": [
    {
     "data": {
      "text/plain": [
       "np.float64(1.3037974683544302)"
      ]
     },
     "execution_count": 51,
     "metadata": {},
     "output_type": "execute_result"
    }
   ],
   "source": [
    "np.sum(x*cond_probs1)"
   ]
  },
  {
   "cell_type": "markdown",
   "metadata": {},
   "source": [
    "Найдем распределением $X_2$ при условии $X_1=2$\n",
    "\n",
    "$$\n",
    "\\begin{aligned}\n",
    "\tf_2(y|2)&=\\frac{f(2,y)}{f_1(2)} & f_1(2)&=\\sum_y f(2,y)\n",
    "\\end{aligned}\n",
    "$$"
   ]
  },
  {
   "cell_type": "code",
   "execution_count": 52,
   "metadata": {},
   "outputs": [
    {
     "data": {
      "text/plain": [
       "array([[0.3225, 0.2125, 0.465 ]])"
      ]
     },
     "execution_count": 52,
     "metadata": {},
     "output_type": "execute_result"
    }
   ],
   "source": [
    "cond_probs2 = probs[x==2,:]/np.sum(probs[x==2,:])\n",
    "cond_probs2"
   ]
  },
  {
   "cell_type": "markdown",
   "metadata": {},
   "source": [
    "Условное математическое ожидание \n",
    "\n",
    "$$\n",
    "\tE(X_2|X_1=2)=\\sum_y yf_1(y|2)\n",
    "$$"
   ]
  },
  {
   "cell_type": "code",
   "execution_count": 53,
   "metadata": {},
   "outputs": [
    {
     "data": {
      "text/plain": [
       "np.float64(1.1425)"
      ]
     },
     "execution_count": 53,
     "metadata": {},
     "output_type": "execute_result"
    }
   ],
   "source": [
    "np.sum(y*cond_probs2)"
   ]
  }
 ],
 "metadata": {
  "kernelspec": {
   "display_name": "base",
   "language": "python",
   "name": "python3"
  },
  "language_info": {
   "codemirror_mode": {
    "name": "ipython",
    "version": 3
   },
   "file_extension": ".py",
   "mimetype": "text/x-python",
   "name": "python",
   "nbconvert_exporter": "python",
   "pygments_lexer": "ipython3",
   "version": "3.12.4"
  }
 },
 "nbformat": 4,
 "nbformat_minor": 2
}
