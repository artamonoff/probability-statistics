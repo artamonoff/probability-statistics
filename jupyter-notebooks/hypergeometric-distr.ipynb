{
 "cells": [
  {
   "cell_type": "markdown",
   "metadata": {},
   "source": [
    "# Гипергеометрическое распределение\n",
    "\n",
    "Пусть $X\\sim Hypergeom(D, N, n)$. Тогда\n",
    "\n",
    "$$\n",
    "\\begin{aligned}\n",
    "\tP(X=k)&=\\frac{C_D^kC^{n-k}_{N-D}}{C_N^n} & k&=\\max\\{0, D+n-N\\},\\ldots,\\min\\{n,D\\}\\\\\n",
    "\tE(X)&=\\frac{nD}{N} &\n",
    "\tVar(X)&=\\frac{n(N-n)}{N-1}\\left(\\frac DN\\right)\\left(1-\\frac DN\\right)\n",
    "\\end{aligned}\n",
    "$$"
   ]
  },
  {
   "cell_type": "code",
   "execution_count": null,
   "metadata": {},
   "outputs": [],
   "source": [
    "import numpy as np\n",
    "from scipy.stats import hypergeom\n",
    "\n",
    "import matplotlib.pyplot as plt"
   ]
  },
  {
   "cell_type": "markdown",
   "metadata": {},
   "source": [
    "## Распределение вероятностей"
   ]
  },
  {
   "cell_type": "code",
   "execution_count": null,
   "metadata": {},
   "outputs": [],
   "source": []
  }
 ],
 "metadata": {
  "language_info": {
   "name": "python"
  }
 },
 "nbformat": 4,
 "nbformat_minor": 2
}
