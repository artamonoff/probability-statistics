{
 "cells": [
  {
   "cell_type": "markdown",
   "metadata": {},
   "source": [
    "# Распределение Пуассона в Python\n",
    "Библиотека `scipy`"
   ]
  },
  {
   "cell_type": "code",
   "execution_count": 16,
   "metadata": {},
   "outputs": [],
   "source": [
    "from scipy.stats import poisson\n",
    "import numpy as np\n",
    "\n",
    "from math import factorial, exp\n",
    "\n",
    "import matplotlib.pyplot as plt"
   ]
  },
  {
   "cell_type": "markdown",
   "metadata": {},
   "source": [
    "Пусть $X\\sim Poisson(\\mu=4)$\n",
    "\n",
    "Зададим распределение с заданными параметрами"
   ]
  },
  {
   "cell_type": "code",
   "execution_count": 17,
   "metadata": {},
   "outputs": [],
   "source": [
    "mu = 4\n",
    "rv = poisson(mu)"
   ]
  },
  {
   "cell_type": "markdown",
   "metadata": {},
   "source": [
    "## Распределение вероятностей\n",
    "\n",
    "Для вычисления вероятностей используем следующие методы\n",
    "\n",
    "|Вероятность|Метод|\n",
    "|-|-|\n",
    "|$f(k)=P(X=k)$|`.pmf(k)`|\n",
    "|$F(k)=P(X\\leq k)$|`.cdf(k)`|\n",
    "|$P(X>k)$|`.sf(k)=1-.cdf(k)`|\n",
    "|$P(k_1<X\\leq k_2)$|`.cdf(k2)-.cdf(k1)`|\n",
    "\n",
    "Для для вычисления вероятности $P(k_1\\leq X\\leq k_2)$ можно использовать следующее наблюдение\n",
    "$$\n",
    "\tP(k_1\\leq X\\leq k_2)=P(k_1-1< X\\leq k_2)\n",
    "$$\n",
    "\n",
    "\n",
    "### Пример 1\n",
    "Вычислим вероятность $P(X=2)=f(2)$\n",
    "\n"
   ]
  },
  {
   "cell_type": "code",
   "execution_count": 18,
   "metadata": {},
   "outputs": [
    {
     "data": {
      "text/plain": [
       "np.float64(0.14652511110987343)"
      ]
     },
     "execution_count": 18,
     "metadata": {},
     "output_type": "execute_result"
    }
   ],
   "source": [
    "rv.pmf(k=2)"
   ]
  },
  {
   "cell_type": "markdown",
   "metadata": {},
   "source": [
    "Вычисли её непосредственно по формуле \n",
    "\n",
    "$$\n",
    "\tP(X=k)=\\frac{\\mu^k}{k!}\\exp(-\\mu)\n",
    "$$"
   ]
  },
  {
   "cell_type": "code",
   "execution_count": null,
   "metadata": {},
   "outputs": [
    {
     "data": {
      "text/plain": [
       "0.14652511110987343"
      ]
     },
     "execution_count": 19,
     "metadata": {},
     "output_type": "execute_result"
    }
   ],
   "source": [
    "k = 2\n",
    "(mu**k/factorial(k))*exp(-mu)"
   ]
  },
  {
   "cell_type": "markdown",
   "metadata": {},
   "source": [
    "### Пример 2\n",
    "Вычислим вероятности\n",
    "\n",
    "$$\n",
    "\\begin{aligned}\n",
    "\t&P(X\\leq 2) & &P(X>1) & &P(1<X\\leq 3)\n",
    "\\end{aligned}\n",
    "$$"
   ]
  },
  {
   "cell_type": "code",
   "execution_count": 20,
   "metadata": {},
   "outputs": [
    {
     "data": {
      "text/plain": [
       "(np.float64(0.2381033055535443),\n",
       " np.float64(0.9084218055563291),\n",
       " np.float64(0.14652511110987343))"
      ]
     },
     "execution_count": 20,
     "metadata": {},
     "output_type": "execute_result"
    }
   ],
   "source": [
    "rv.cdf(2), rv.sf(1), rv.cdf(2)-rv.cdf(1)"
   ]
  },
  {
   "cell_type": "markdown",
   "metadata": {},
   "source": [
    "## Математическое ожидание, дисперсия, стандартное отклонение\n",
    "\n",
    "Для вычисления используем следующие методы\n",
    "\n",
    "|Величина|Метод|\n",
    "|-|-|\n",
    "|Математическое ожидание|`.mean()`|\n",
    "|Дисперсия|`.var()`|\n",
    "|Стандартное отклонение|`.std()`|\n",
    "\n",
    "### Пример 3\n",
    "\n",
    "Вычислим $E(X), Var(X), \\sigma(X)$\n"
   ]
  },
  {
   "cell_type": "code",
   "execution_count": 21,
   "metadata": {},
   "outputs": [
    {
     "data": {
      "text/plain": [
       "(np.float64(4.0), np.float64(4.0), np.float64(2.0))"
      ]
     },
     "execution_count": 21,
     "metadata": {},
     "output_type": "execute_result"
    }
   ],
   "source": [
    "rv.mean(), rv.var(), rv.std()"
   ]
  },
  {
   "cell_type": "markdown",
   "metadata": {},
   "source": [
    "Можно вычислить непосредственно по формулам\n",
    "\n",
    "$$\n",
    "\\begin{aligned}\n",
    "\tE(X)&=\\mu &\n",
    "\tVar(X)&=\\mu & \\sigma(X)&=\\sqrt{Var(X)}\n",
    "\\end{aligned}\n",
    "$$"
   ]
  },
  {
   "cell_type": "code",
   "execution_count": 22,
   "metadata": {},
   "outputs": [
    {
     "data": {
      "text/plain": [
       "(4, 4, 2.0)"
      ]
     },
     "execution_count": 22,
     "metadata": {},
     "output_type": "execute_result"
    }
   ],
   "source": [
    "mu, mu, mu**0.5"
   ]
  },
  {
   "cell_type": "markdown",
   "metadata": {},
   "source": [
    "## Визуализация распределения вероятностей"
   ]
  },
  {
   "cell_type": "code",
   "execution_count": 23,
   "metadata": {},
   "outputs": [
    {
     "data": {
      "image/png": "[encoded data removed]",
      "text/plain": [
       "<Figure size 640x480 with 1 Axes>"
      ]
     },
     "metadata": {},
     "output_type": "display_data"
    }
   ],
   "source": [
    "x_min, x_max = 0, 15\n",
    "\n",
    "x = np.arange(start=x_min, stop=x_max+1, step=1)\n",
    "\n",
    "fig, ax =  plt.subplots(1,1)\n",
    "\n",
    "ax.vlines(x, 0, rv.pmf(x), linestyle='-', lw=3,  colors='m', label='Prob')\n",
    "\n",
    "ax.spines['top'].set_visible(False)\n",
    "ax.spines['right'].set_visible(False)\n",
    "plt.legend()\n",
    "plt.show()"
   ]
  },
  {
   "cell_type": "markdown",
   "metadata": {},
   "source": [
    "## Визуализация функции распределения"
   ]
  },
  {
   "cell_type": "code",
   "execution_count": 24,
   "metadata": {},
   "outputs": [
    {
     "data": {
      "image/png": "[encoded data removed]",
      "text/plain": [
       "<Figure size 640x480 with 1 Axes>"
      ]
     },
     "metadata": {},
     "output_type": "display_data"
    }
   ],
   "source": [
    "x_min, x_max = 0, 15\n",
    "x = np.arange(start=x_min-1, stop=x_max+2, step=0.05)\n",
    "\n",
    "plt.plot(x, rv.cdf(np.floor(x)), color='m')\n",
    "plt.show()"
   ]
  }
 ],
 "metadata": {
  "kernelspec": {
   "display_name": "Python 3",
   "language": "python",
   "name": "python3"
  },
  "language_info": {
   "codemirror_mode": {
    "name": "ipython",
    "version": 3
   },
   "file_extension": ".py",
   "mimetype": "text/x-python",
   "name": "python",
   "nbconvert_exporter": "python",
   "pygments_lexer": "ipython3",
   "version": "3.14.0"
  }
 },
 "nbformat": 4,
 "nbformat_minor": 2
}
