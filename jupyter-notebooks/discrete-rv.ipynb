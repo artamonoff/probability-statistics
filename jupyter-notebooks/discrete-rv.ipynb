{
 "cells": [
  {
   "cell_type": "markdown",
   "metadata": {},
   "source": [
    "# Дискретные случайные величины и распределения"
   ]
  },
  {
   "cell_type": "code",
   "execution_count": 1,
   "metadata": {},
   "outputs": [],
   "source": [
    "import numpy as np\n",
    "\n",
    "import matplotlib.pyplot as plt\n",
    "\n",
    "from IPython.display import display\n",
    "from tabulate import tabulate"
   ]
  },
  {
   "cell_type": "code",
   "execution_count": 2,
   "metadata": {},
   "outputs": [
    {
     "name": "stdout",
     "output_type": "stream",
     "text": [
      "Рассмотрим случайную величину с таблицей распределения\n"
     ]
    },
    {
     "data": {
      "text/html": [
       "<table>\n",
       "<tbody>\n",
       "<tr><td>x   </td><td style=\"text-align: right;\">0    </td><td style=\"text-align: right;\">1   </td><td style=\"text-align: right;\">2    </td><td style=\"text-align: right;\">3    </td><td style=\"text-align: right;\">4    </td><td style=\"text-align: right;\">5    </td><td style=\"text-align: right;\">6    </td></tr>\n",
       "<tr><td>Prob</td><td style=\"text-align: right;\">0.092</td><td style=\"text-align: right;\">0.17</td><td style=\"text-align: right;\">0.036</td><td style=\"text-align: right;\">0.302</td><td style=\"text-align: right;\">0.129</td><td style=\"text-align: right;\">0.085</td><td style=\"text-align: right;\">0.186</td></tr>\n",
       "</tbody>\n",
       "</table>"
      ],
      "text/plain": [
       "'<table>\\n<tbody>\\n<tr><td>x   </td><td style=\"text-align: right;\">0    </td><td style=\"text-align: right;\">1   </td><td style=\"text-align: right;\">2    </td><td style=\"text-align: right;\">3    </td><td style=\"text-align: right;\">4    </td><td style=\"text-align: right;\">5    </td><td style=\"text-align: right;\">6    </td></tr>\\n<tr><td>Prob</td><td style=\"text-align: right;\">0.092</td><td style=\"text-align: right;\">0.17</td><td style=\"text-align: right;\">0.036</td><td style=\"text-align: right;\">0.302</td><td style=\"text-align: right;\">0.129</td><td style=\"text-align: right;\">0.085</td><td style=\"text-align: right;\">0.186</td></tr>\\n</tbody>\\n</table>'"
      ]
     },
     "metadata": {},
     "output_type": "display_data"
    }
   ],
   "source": [
    "x = np.arange(0, 7)\n",
    "\n",
    "rng_prob = np.random.default_rng(2)\n",
    "cum_probs = rng_prob.uniform(low=0, high=1, size=len(x)-1).round(3)\n",
    "cum_probs = np.append(arr=cum_probs, values=[0,1])\n",
    "probs = np.diff(np.sort(cum_probs))\n",
    "\n",
    "distr_law = np.array([x, probs])\n",
    "\n",
    "print('Рассмотрим случайную величину с таблицей распределения')\n",
    "display(tabulate(distr_law, tablefmt='html', showindex=['x', 'Prob']))"
   ]
  },
  {
   "cell_type": "code",
   "execution_count": 15,
   "metadata": {},
   "outputs": [
    {
     "data": {
      "image/png": "[encoded data removed]",
      "text/plain": [
       "<Figure size 640x480 with 1 Axes>"
      ]
     },
     "metadata": {},
     "output_type": "display_data"
    }
   ],
   "source": [
    "plt.vlines(x, 0, probs, linestyle='-', lw=3)\n",
    "\n",
    "plt.show()"
   ]
  },
  {
   "cell_type": "markdown",
   "metadata": {},
   "source": [
    "## Математическое ожидание, дисперсия, стандартное отклонение, мода\n",
    "\n",
    "Математическое ожидание\n",
    "\n",
    "$$\n",
    "\tE(X)=\\sum_x xf(x)\n",
    "$$"
   ]
  },
  {
   "cell_type": "code",
   "execution_count": 3,
   "metadata": {},
   "outputs": [
    {
     "data": {
      "text/plain": [
       "np.float64(3.205)"
      ]
     },
     "execution_count": 3,
     "metadata": {},
     "output_type": "execute_result"
    }
   ],
   "source": [
    "np.sum(x*probs)"
   ]
  },
  {
   "cell_type": "markdown",
   "metadata": {},
   "source": [
    "Момент второго порядка\n",
    "\n",
    "$$\n",
    "\tE(X^2)=\\sum_x x^2f(x)\n",
    "$$"
   ]
  },
  {
   "cell_type": "code",
   "execution_count": 4,
   "metadata": {},
   "outputs": [
    {
     "data": {
      "text/plain": [
       "np.float64(13.917000000000002)"
      ]
     },
     "execution_count": 4,
     "metadata": {},
     "output_type": "execute_result"
    }
   ],
   "source": [
    "np.sum((x**2)*probs)"
   ]
  },
  {
   "cell_type": "markdown",
   "metadata": {},
   "source": [
    "Дисперсия (центральный момент второго порядка)\n",
    "\n",
    "$$\n",
    "\tVar(X)=E(X^2)-(E(X))^2\n",
    "$$"
   ]
  },
  {
   "cell_type": "code",
   "execution_count": 5,
   "metadata": {},
   "outputs": [
    {
     "data": {
      "text/plain": [
       "np.float64(3.6449750000000005)"
      ]
     },
     "execution_count": 5,
     "metadata": {},
     "output_type": "execute_result"
    }
   ],
   "source": [
    "np.sum((x**2)*probs)-(np.sum(x*probs))**2"
   ]
  },
  {
   "cell_type": "markdown",
   "metadata": {},
   "source": [
    "Стандартное отклонение\n",
    "\n",
    "$$\n",
    "\t\\sigma(X)=\\sqrt{Var(X)}\n",
    "$$"
   ]
  },
  {
   "cell_type": "code",
   "execution_count": 6,
   "metadata": {},
   "outputs": [
    {
     "data": {
      "text/plain": [
       "np.float64(1.909181761907441)"
      ]
     },
     "execution_count": 6,
     "metadata": {},
     "output_type": "execute_result"
    }
   ],
   "source": [
    "np.sqrt(np.sum((x**2)*probs)-(np.sum(x*probs))**2)"
   ]
  },
  {
   "cell_type": "markdown",
   "metadata": {},
   "source": [
    "Мода\n",
    "\n",
    "$$\n",
    "\t\\argmax_x f(x)\n",
    "$$"
   ]
  },
  {
   "cell_type": "code",
   "execution_count": 24,
   "metadata": {},
   "outputs": [
    {
     "data": {
      "text/plain": [
       "np.int64(3)"
      ]
     },
     "execution_count": 24,
     "metadata": {},
     "output_type": "execute_result"
    }
   ],
   "source": [
    "x[np.argmax(probs)]"
   ]
  }
 ],
 "metadata": {
  "kernelspec": {
   "display_name": "base",
   "language": "python",
   "name": "python3"
  },
  "language_info": {
   "codemirror_mode": {
    "name": "ipython",
    "version": 3
   },
   "file_extension": ".py",
   "mimetype": "text/x-python",
   "name": "python",
   "nbconvert_exporter": "python",
   "pygments_lexer": "ipython3",
   "version": "3.12.5"
  }
 },
 "nbformat": 4,
 "nbformat_minor": 2
}
