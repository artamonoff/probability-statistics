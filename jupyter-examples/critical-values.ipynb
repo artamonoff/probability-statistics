{
 "cells": [
  {
   "cell_type": "markdown",
   "metadata": {},
   "source": [
    "# Критические значения базовых распределений"
   ]
  },
  {
   "cell_type": "code",
   "execution_count": 1,
   "metadata": {},
   "outputs": [],
   "source": [
    "from scipy.stats import norm, chi2, t, f"
   ]
  },
  {
   "cell_type": "markdown",
   "metadata": {},
   "source": [
    "## (Двустороннее) критическое значение распределения $\\mathcal{N}(0,1)$"
   ]
  },
  {
   "cell_type": "code",
   "execution_count": null,
   "metadata": {},
   "outputs": [],
   "source": [
    "# зададим уровень значимости\n",
    "sign_level = 0.05\n",
    "# критическое значение\n",
    "norm.isf(sign_level/2)"
   ]
  },
  {
   "cell_type": "markdown",
   "metadata": {},
   "source": [
    "## (Одностороннее) критическое значение $\\chi^2$-распределения\n",
    "\n",
    "__Замечание__: $\\chi^2$-распределение имеет одни параметр: степени свобода `df`"
   ]
  },
  {
   "cell_type": "code",
   "execution_count": null,
   "metadata": {},
   "outputs": [],
   "source": [
    "# зададим уровень значимости\n",
    "sign_level = 0.05\n",
    "# критическое значение\n",
    "chi2(df=2).isf(sign_level)"
   ]
  },
  {
   "cell_type": "markdown",
   "metadata": {},
   "source": [
    "## (Двустороннее) критическое значение $t$-распределения\n",
    "\n",
    "__Замечание__: $t$-распределение (распределение Стьюдента) имеет одни параметр: степени свобода `df`"
   ]
  },
  {
   "cell_type": "code",
   "execution_count": null,
   "metadata": {},
   "outputs": [],
   "source": [
    "# зададим уровень значимости\n",
    "sign_level = 0.01\n",
    "# критическое значение\n",
    "t(df=10).isf(sign_level/2)"
   ]
  },
  {
   "cell_type": "markdown",
   "metadata": {},
   "source": [
    "## (Одностороннее) критическое значение $F$-распределения\n",
    "\n",
    "__Замечание__: $F$-распределение имеет два параметра: \n",
    "\n",
    "- первая степень свобода `df1=dfn` (числителя)\n",
    "- вторая степень свобода `df2=dfd` (знаменателя) "
   ]
  },
  {
   "cell_type": "code",
   "execution_count": null,
   "metadata": {},
   "outputs": [],
   "source": [
    "# зададим уровень значимости\n",
    "sign_level = 0.05\n",
    "# критическое значение\n",
    "f(dfn=2, dfd=10).isf(sign_level)"
   ]
  }
 ],
 "metadata": {
  "kernelspec": {
   "display_name": "base",
   "language": "python",
   "name": "python3"
  },
  "language_info": {
   "codemirror_mode": {
    "name": "ipython",
    "version": 3
   },
   "file_extension": ".py",
   "mimetype": "text/x-python",
   "name": "python",
   "nbconvert_exporter": "python",
   "pygments_lexer": "ipython3",
   "version": "3.12.8"
  }
 },
 "nbformat": 4,
 "nbformat_minor": 2
}
