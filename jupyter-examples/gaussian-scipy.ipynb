{
 "cells": [
  {
   "cell_type": "markdown",
   "metadata": {},
   "source": [
    "## Нормальное/гауссово распределение в Python\n",
    "\n",
    "Библиотека `scipy`"
   ]
  },
  {
   "cell_type": "code",
   "execution_count": 1,
   "metadata": {},
   "outputs": [],
   "source": [
    "from scipy.stats import norm\n",
    "import numpy as np"
   ]
  },
  {
   "cell_type": "markdown",
   "metadata": {},
   "source": [
    "Пусть $X\\sim \\mathcal N(1, 2^2)$\n",
    "\n",
    "Зададим распределение с заданными параметрами"
   ]
  },
  {
   "cell_type": "code",
   "execution_count": 2,
   "metadata": {},
   "outputs": [],
   "source": [
    "rv = norm(1, 2)"
   ]
  },
  {
   "cell_type": "markdown",
   "metadata": {},
   "source": [
    "## Математическое ожидание, дисперсия, стандартное отклонение\n",
    "\n",
    "Для вычисления используем следующие методы\n",
    "\n",
    "|Величина|Метод|\n",
    "|-|-|\n",
    "|Математическое ожидание|`.mean()`|\n",
    "|Дисперсия|`.var()`|\n",
    "|Стандартное отклонение|`.std()`|\n",
    "\n",
    "### Пример 1\n",
    "\n",
    "Вычислим $E(X), Var(X), \\sigma(X)$"
   ]
  },
  {
   "cell_type": "code",
   "execution_count": 3,
   "metadata": {},
   "outputs": [
    {
     "data": {
      "text/plain": [
       "(np.float64(1.0), np.float64(4.0), np.float64(2.0))"
      ]
     },
     "execution_count": 3,
     "metadata": {},
     "output_type": "execute_result"
    }
   ],
   "source": [
    "rv.mean(), rv.var(), rv.std()"
   ]
  },
  {
   "cell_type": "markdown",
   "metadata": {},
   "source": [
    "## Плотность распределения\n",
    "\n",
    "Для вычисления значения плотности распределения используем метод\n",
    "\n",
    "|Величина|Метод|\n",
    "|-|-|\n",
    "|Плотность распределения в точке|`.pdf(x)`|\n",
    "\n",
    "### Пример 2\n",
    "\n",
    "Вычислим $f(0)$, $f(1)$, $f(4)$"
   ]
  },
  {
   "cell_type": "code",
   "execution_count": 4,
   "metadata": {},
   "outputs": [
    {
     "data": {
      "text/plain": [
       "(np.float64(0.17603266338214976),\n",
       " np.float64(0.19947114020071635),\n",
       " np.float64(0.06475879783294587))"
      ]
     },
     "execution_count": 4,
     "metadata": {},
     "output_type": "execute_result"
    }
   ],
   "source": [
    "rv.pdf(0), rv.pdf(1), rv.pdf(4)"
   ]
  },
  {
   "cell_type": "markdown",
   "metadata": {},
   "source": [
    "## Вычисление вероятностей\n",
    "\n",
    "Для вычисления вероятностей используем методы\n",
    "\n",
    "|Вероятность|Метод|\n",
    "|-|-|\n",
    "|$F(x)=P(X\\leq x)=P(X< x)$|`.cdf(x)`|\n",
    "|$P(X>x)=P(X\\geq x)$|`.sf(x)=1-.cdf(x)`|\n",
    "|$P(a<X< b)=P(a\\leq X\\leq b)$|`.cdf(b)-.cdf(a)`|\n",
    "\n",
    "### Пример 3\n",
    "\n",
    "Вычислим\n",
    "\n",
    "$$\n",
    "\\begin{aligned}\n",
    "\t&P(X\\leq 2) & &P(X>1.5) & &P(0\\leq X\\leq 2)\n",
    "\\end{aligned}\n",
    "$$"
   ]
  },
  {
   "cell_type": "code",
   "execution_count": 5,
   "metadata": {},
   "outputs": [
    {
     "data": {
      "text/plain": [
       "(np.float64(0.6914624612740131),\n",
       " np.float64(0.4012936743170763),\n",
       " np.float64(0.38292492254802624))"
      ]
     },
     "execution_count": 5,
     "metadata": {},
     "output_type": "execute_result"
    }
   ],
   "source": [
    "rv.cdf(2), rv.sf(1.5), rv.cdf(2)-rv.cdf(0)"
   ]
  },
  {
   "cell_type": "markdown",
   "metadata": {},
   "source": [
    "## Квантили и медиана\n",
    "\n",
    "Используем методы (при заданном $0<p<1$)\n",
    "\n",
    "|Вероятность|Метод|\n",
    "|-|-|\n",
    "|квантиль: решение уравнения $F(x)=P(X\\leq x)=p$|`.ppf(p)`|\n",
    "|решение уравнения $P(X\\geq x)=p$|`.isf(p)=.cdf(1-p)`|\n",
    "|медиана распределения|`.median()`|\n",
    "\n",
    "### Пример 4\n",
    "\n",
    "Найдем $a,b$ т.ч.\n",
    "\n",
    "$$\n",
    "\\begin{aligned}\n",
    "\t&P(X\\leq a)=0.7 & &P(X>b)=0.4\n",
    "\\end{aligned}\n",
    "$$"
   ]
  },
  {
   "cell_type": "code",
   "execution_count": 6,
   "metadata": {},
   "outputs": [
    {
     "data": {
      "text/plain": [
       "(np.float64(2.0488010254160813), np.float64(1.5066942062715993))"
      ]
     },
     "execution_count": 6,
     "metadata": {},
     "output_type": "execute_result"
    }
   ],
   "source": [
    "rv.ppf(0.7), rv.isf(0.4)"
   ]
  },
  {
   "cell_type": "markdown",
   "metadata": {},
   "source": [
    "Медиана распределения"
   ]
  },
  {
   "cell_type": "code",
   "execution_count": 7,
   "metadata": {},
   "outputs": [
    {
     "data": {
      "text/plain": [
       "np.float64(1.0)"
      ]
     },
     "execution_count": 7,
     "metadata": {},
     "output_type": "execute_result"
    }
   ],
   "source": [
    "rv.median()"
   ]
  }
 ],
 "metadata": {
  "kernelspec": {
   "display_name": "base",
   "language": "python",
   "name": "python3"
  },
  "language_info": {
   "codemirror_mode": {
    "name": "ipython",
    "version": 3
   },
   "file_extension": ".py",
   "mimetype": "text/x-python",
   "name": "python",
   "nbconvert_exporter": "python",
   "pygments_lexer": "ipython3",
   "version": "3.12.7"
  }
 },
 "nbformat": 4,
 "nbformat_minor": 2
}
